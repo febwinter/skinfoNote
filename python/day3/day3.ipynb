{
 "cells": [
  {
   "cell_type": "markdown",
   "metadata": {},
   "source": [
    "# 9장"
   ]
  },
  {
   "cell_type": "markdown",
   "metadata": {},
   "source": [
    "## 예제"
   ]
  },
  {
   "cell_type": "code",
   "execution_count": 1,
   "metadata": {},
   "outputs": [
    {
     "data": {
      "text/plain": [
       "[1, 2, 3, 4]"
      ]
     },
     "execution_count": 1,
     "metadata": {},
     "output_type": "execute_result"
    }
   ],
   "source": [
    "list(range(1,5))"
   ]
  },
  {
   "cell_type": "code",
   "execution_count": 2,
   "metadata": {},
   "outputs": [
    {
     "data": {
      "text/plain": [
       "[1, 2, 3, 4, 5, 6, 7, 8, 9]"
      ]
     },
     "execution_count": 2,
     "metadata": {},
     "output_type": "execute_result"
    }
   ],
   "source": [
    "list(range(1,10))"
   ]
  },
  {
   "cell_type": "code",
   "execution_count": 3,
   "metadata": {},
   "outputs": [
    {
     "data": {
      "text/plain": [
       "[5, 6, 7, 8, 9]"
      ]
     },
     "execution_count": 3,
     "metadata": {},
     "output_type": "execute_result"
    }
   ],
   "source": [
    "list(range(5,10))"
   ]
  },
  {
   "cell_type": "code",
   "execution_count": 4,
   "metadata": {},
   "outputs": [
    {
     "data": {
      "text/plain": [
       "[2000, 2004, 2008, 2012, 2016, 2020, 2024, 2028, 2032, 2036, 2040, 2044, 2048]"
      ]
     },
     "execution_count": 4,
     "metadata": {},
     "output_type": "execute_result"
    }
   ],
   "source": [
    "list(range(2000,2050,4))"
   ]
  },
  {
   "cell_type": "code",
   "execution_count": 5,
   "metadata": {},
   "outputs": [
    {
     "data": {
      "text/plain": [
       "[2050, 2046, 2042, 2038, 2034, 2030, 2026, 2022, 2018, 2014, 2010, 2006, 2002]"
      ]
     },
     "execution_count": 5,
     "metadata": {},
     "output_type": "execute_result"
    }
   ],
   "source": [
    "list(range(2050,2000,-4))"
   ]
  },
  {
   "cell_type": "code",
   "execution_count": 6,
   "metadata": {},
   "outputs": [
    {
     "data": {
      "text/plain": [
       "[]"
      ]
     },
     "execution_count": 6,
     "metadata": {},
     "output_type": "execute_result"
    }
   ],
   "source": [
    "list(range(2000,2050,-4))"
   ]
  },
  {
   "cell_type": "code",
   "execution_count": 7,
   "metadata": {},
   "outputs": [
    {
     "data": {
      "text/plain": [
       "[]"
      ]
     },
     "execution_count": 7,
     "metadata": {},
     "output_type": "execute_result"
    }
   ],
   "source": [
    "list(range(2050,2000,4))"
   ]
  },
  {
   "cell_type": "code",
   "execution_count": 8,
   "metadata": {},
   "outputs": [
    {
     "name": "stdout",
     "output_type": "stream",
     "text": [
      "5050\n"
     ]
    }
   ],
   "source": [
    "total = 0\n",
    "for i in range(1,101):\n",
    "    total += i\n",
    "\n",
    "print(total)"
   ]
  },
  {
   "cell_type": "markdown",
   "metadata": {},
   "source": [
    "## 연습문제"
   ]
  },
  {
   "cell_type": "code",
   "execution_count": 9,
   "metadata": {},
   "outputs": [
    {
     "name": "stdout",
     "output_type": "stream",
     "text": [
      "Emb\n",
      "Him\n",
      "Unc\n",
      "Lon\n",
      "Dpy\n",
      "Sma\n"
     ]
    }
   ],
   "source": [
    "celegans_phenotypes = ['Emb','Him','Unc','Lon','Dpy','Sma']\n",
    "\n",
    "for item in celegans_phenotypes:\n",
    "    print(item)\n",
    "    "
   ]
  },
  {
   "cell_type": "code",
   "execution_count": 10,
   "metadata": {},
   "outputs": [
    {
     "name": "stdout",
     "output_type": "stream",
     "text": [
      "87.4 24110.0 6537.0 14.4 376000.0 "
     ]
    }
   ],
   "source": [
    "half_lives = [87.4, 24110.0,6537.0,14.4,376000.0]\n",
    "\n",
    "for items in half_lives:\n",
    "    print(items,end=' ')"
   ]
  },
  {
   "cell_type": "code",
   "execution_count": 11,
   "metadata": {},
   "outputs": [
    {
     "name": "stdout",
     "output_type": "stream",
     "text": [
      "[6, 5, 8, 4, 3, 4, 3, 7, 5, 3, 2, 8, 2, 4]\n"
     ]
    }
   ],
   "source": [
    "whales = [5,4,7,3,2,3,2,6,4,2,1,7,1,3]\n",
    "more_whales = []\n",
    "for w in whales:\n",
    "    more_whales.append(w + 1)\n",
    "\n",
    "print(more_whales)"
   ]
  },
  {
   "cell_type": "code",
   "execution_count": 12,
   "metadata": {},
   "outputs": [
    {
     "name": "stdout",
     "output_type": "stream",
     "text": [
      "1396\n"
     ]
    }
   ],
   "source": [
    "country_populations = [1295,23,7,3,47,21]\n",
    "total = 0\n",
    "\n",
    "for pop in country_populations:\n",
    "    total += pop\n",
    "    \n",
    "print(total)"
   ]
  },
  {
   "cell_type": "code",
   "execution_count": 13,
   "metadata": {},
   "outputs": [
    {
     "name": "stdout",
     "output_type": "stream",
     "text": [
      "첫째 날 생쥐1이 생쥐2보다 몸무게가 더 많이 나간다.\n",
      "생쥐2가 생쥐1보다 무거워졌다\n"
     ]
    }
   ],
   "source": [
    "rat_1 = [1,2,3,4,5,6,7,8,9,10]\n",
    "rat_2 = [0.1,2,3,4,5,6,7,8,9,20]\n",
    "firstDay = True # 첫째날 생쥐 1이 더 무거움\n",
    "\n",
    "\n",
    "for day in range(10):\n",
    "    if day == 0 and rat_1[day] > rat_2[day]:\n",
    "        print('첫째 날 생쥐1이 생쥐2보다 몸무게가 더 많이 나간다.')\n",
    "    elif day == 0 and rat_1[day] <= rat_2[day]:\n",
    "        print('첫째 날 생쥐1이 생쥐2보다 몸무게가 더 적게 나간다.')\n",
    "        firstDay = False\n",
    "    \n",
    "    if day == 9 and rat_1[day] > rat_2[day] and firstDay == True :\n",
    "        print('생쥐1은 생쥐2보다 여전히 무겁다')\n",
    "    \n",
    "    if day == 9 and rat_1[day] < rat_2[day] and firstDay == True:\n",
    "        print('생쥐2가 생쥐1보다 무거워졌다')"
   ]
  },
  {
   "cell_type": "code",
   "execution_count": 14,
   "metadata": {},
   "outputs": [
    {
     "name": "stdout",
     "output_type": "stream",
     "text": [
      "첫째 날 생쥐1이 생쥐2보다 몸무게가 더 많이 나간다\n",
      "생쥐2가 생쥐1보다 무거워졌다\n"
     ]
    }
   ],
   "source": [
    "firstDay = True\n",
    "for day in range(10):\n",
    "    if day == 0:\n",
    "        if rat_1[day] > rat_2[day]:\n",
    "            print('첫째 날 생쥐1이 생쥐2보다 몸무게가 더 많이 나간다')\n",
    "        else:\n",
    "            print('첫째날 생쥐1이 생쥐2보다 몸무게가 더 적게 나간다.')\n",
    "            firstDay = False\n",
    "    \n",
    "    if day == 9:\n",
    "        if rat_1[day] > rat_2[day] and firstDay == True :\n",
    "            print('생쥐1은 생쥐2보다 여전히 무겁다')\n",
    "    \n",
    "        if rat_1[day] < rat_2[day] and firstDay == True:\n",
    "            print('생쥐2가 생쥐1보다 무거워졌다')\n",
    "        "
   ]
  },
  {
   "cell_type": "code",
   "execution_count": 15,
   "metadata": {},
   "outputs": [
    {
     "name": "stdout",
     "output_type": "stream",
     "text": [
      "10\n",
      "9\n",
      "8\n",
      "7\n",
      "6\n",
      "5\n",
      "4\n",
      "3\n",
      "2\n",
      "1\n"
     ]
    }
   ],
   "source": [
    "for i in range(10,0,-1):\n",
    "    print(i)\n",
    "    "
   ]
  },
  {
   "cell_type": "code",
   "execution_count": 16,
   "metadata": {},
   "outputs": [
    {
     "name": "stdout",
     "output_type": "stream",
     "text": [
      "252\n"
     ]
    }
   ],
   "source": [
    "sum = 0\n",
    "for i in range(2,22+1):\n",
    "    sum += i\n",
    "\n",
    "print(sum)"
   ]
  },
  {
   "cell_type": "code",
   "execution_count": 17,
   "metadata": {},
   "outputs": [
    {
     "name": "stdout",
     "output_type": "stream",
     "text": [
      "\n",
      "T\n",
      "TT\n",
      "TTT\n",
      "TTTT\n",
      "TTTTT\n",
      "TTTTTT\n"
     ]
    }
   ],
   "source": [
    "for i in range(7):\n",
    "    for j in range(i):\n",
    "        print('T',end='')\n",
    "    print()"
   ]
  },
  {
   "cell_type": "code",
   "execution_count": 18,
   "metadata": {},
   "outputs": [
    {
     "name": "stdout",
     "output_type": "stream",
     "text": [
      "       T\n",
      "      TT\n",
      "     TTT\n",
      "    TTTT\n",
      "   TTTTT\n",
      "  TTTTTT\n",
      " TTTTTTT\n"
     ]
    }
   ],
   "source": [
    "for i in range(6,0-1,-1):\n",
    "    for j in range(0,i+1):\n",
    "        print(' ',end='')\n",
    "    for k in range(0,7 - i):\n",
    "        print('T', end='')\n",
    "    print()"
   ]
  },
  {
   "cell_type": "code",
   "execution_count": 19,
   "metadata": {},
   "outputs": [
    {
     "name": "stdout",
     "output_type": "stream",
     "text": [
      "      T\n",
      "     TT\n",
      "    TTT\n",
      "   TTTT\n",
      "  TTTTT\n",
      " TTTTTT\n",
      "TTTTTTT\n"
     ]
    }
   ],
   "source": [
    "i = 1\n",
    "j = 7\n",
    "k = 0\n",
    "while i <= 7:\n",
    "    j = 7 - i\n",
    "    k = i\n",
    "    while j > 0:\n",
    "        print(' ',end='')\n",
    "        j-=1\n",
    "    while k > 0:\n",
    "        print('T',end='')\n",
    "        k -=1\n",
    "    i += 1\n",
    "    print()\n"
   ]
  },
  {
   "cell_type": "code",
   "execution_count": null,
   "metadata": {},
   "outputs": [],
   "source": []
  }
 ],
 "metadata": {
  "kernelspec": {
   "display_name": "Python 3",
   "language": "python",
   "name": "python3"
  },
  "language_info": {
   "codemirror_mode": {
    "name": "ipython",
    "version": 3
   },
   "file_extension": ".py",
   "mimetype": "text/x-python",
   "name": "python",
   "nbconvert_exporter": "python",
   "pygments_lexer": "ipython3",
   "version": "3.7.6"
  }
 },
 "nbformat": 4,
 "nbformat_minor": 4
}
