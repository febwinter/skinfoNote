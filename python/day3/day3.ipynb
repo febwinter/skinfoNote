{
 "cells": [
  {
   "cell_type": "markdown",
   "metadata": {},
   "source": [
    "# 9장"
   ]
  },
  {
   "cell_type": "markdown",
   "metadata": {},
   "source": [
    "## 예제"
   ]
  },
  {
   "cell_type": "code",
   "execution_count": 1,
   "metadata": {},
   "outputs": [
    {
     "data": {
      "text/plain": [
       "[1, 2, 3, 4]"
      ]
     },
     "execution_count": 1,
     "metadata": {},
     "output_type": "execute_result"
    }
   ],
   "source": [
    "list(range(1,5))"
   ]
  },
  {
   "cell_type": "code",
   "execution_count": 2,
   "metadata": {},
   "outputs": [
    {
     "data": {
      "text/plain": [
       "[1, 2, 3, 4, 5, 6, 7, 8, 9]"
      ]
     },
     "execution_count": 2,
     "metadata": {},
     "output_type": "execute_result"
    }
   ],
   "source": [
    "list(range(1,10))"
   ]
  },
  {
   "cell_type": "code",
   "execution_count": 3,
   "metadata": {},
   "outputs": [
    {
     "data": {
      "text/plain": [
       "[5, 6, 7, 8, 9]"
      ]
     },
     "execution_count": 3,
     "metadata": {},
     "output_type": "execute_result"
    }
   ],
   "source": [
    "list(range(5,10))"
   ]
  },
  {
   "cell_type": "code",
   "execution_count": 4,
   "metadata": {},
   "outputs": [
    {
     "data": {
      "text/plain": [
       "[2000, 2004, 2008, 2012, 2016, 2020, 2024, 2028, 2032, 2036, 2040, 2044, 2048]"
      ]
     },
     "execution_count": 4,
     "metadata": {},
     "output_type": "execute_result"
    }
   ],
   "source": [
    "list(range(2000,2050,4))"
   ]
  },
  {
   "cell_type": "code",
   "execution_count": 5,
   "metadata": {},
   "outputs": [
    {
     "data": {
      "text/plain": [
       "[2050, 2046, 2042, 2038, 2034, 2030, 2026, 2022, 2018, 2014, 2010, 2006, 2002]"
      ]
     },
     "execution_count": 5,
     "metadata": {},
     "output_type": "execute_result"
    }
   ],
   "source": [
    "list(range(2050,2000,-4))"
   ]
  },
  {
   "cell_type": "code",
   "execution_count": 6,
   "metadata": {},
   "outputs": [
    {
     "data": {
      "text/plain": [
       "[]"
      ]
     },
     "execution_count": 6,
     "metadata": {},
     "output_type": "execute_result"
    }
   ],
   "source": [
    "list(range(2000,2050,-4))"
   ]
  },
  {
   "cell_type": "code",
   "execution_count": 7,
   "metadata": {},
   "outputs": [
    {
     "data": {
      "text/plain": [
       "[]"
      ]
     },
     "execution_count": 7,
     "metadata": {},
     "output_type": "execute_result"
    }
   ],
   "source": [
    "list(range(2050,2000,4))"
   ]
  },
  {
   "cell_type": "code",
   "execution_count": 8,
   "metadata": {},
   "outputs": [
    {
     "name": "stdout",
     "output_type": "stream",
     "text": [
      "5050\n"
     ]
    }
   ],
   "source": [
    "total = 0\n",
    "for i in range(1,101):\n",
    "    total += i\n",
    "\n",
    "print(total)"
   ]
  },
  {
   "cell_type": "markdown",
   "metadata": {},
   "source": [
    "## 연습문제"
   ]
  },
  {
   "cell_type": "code",
   "execution_count": 9,
   "metadata": {},
   "outputs": [
    {
     "name": "stdout",
     "output_type": "stream",
     "text": [
      "Emb\n",
      "Him\n",
      "Unc\n",
      "Lon\n",
      "Dpy\n",
      "Sma\n"
     ]
    }
   ],
   "source": [
    "celegans_phenotypes = ['Emb','Him','Unc','Lon','Dpy','Sma']\n",
    "\n",
    "for item in celegans_phenotypes:\n",
    "    print(item)\n",
    "    "
   ]
  },
  {
   "cell_type": "code",
   "execution_count": 10,
   "metadata": {},
   "outputs": [
    {
     "name": "stdout",
     "output_type": "stream",
     "text": [
      "87.4 24110.0 6537.0 14.4 376000.0 "
     ]
    }
   ],
   "source": [
    "half_lives = [87.4, 24110.0,6537.0,14.4,376000.0]\n",
    "\n",
    "for items in half_lives:\n",
    "    print(items,end=' ')"
   ]
  },
  {
   "cell_type": "code",
   "execution_count": 11,
   "metadata": {},
   "outputs": [
    {
     "name": "stdout",
     "output_type": "stream",
     "text": [
      "[6, 5, 8, 4, 3, 4, 3, 7, 5, 3, 2, 8, 2, 4]\n"
     ]
    }
   ],
   "source": [
    "whales = [5,4,7,3,2,3,2,6,4,2,1,7,1,3]\n",
    "more_whales = []\n",
    "for w in whales:\n",
    "    more_whales.append(w + 1)\n",
    "\n",
    "print(more_whales)"
   ]
  },
  {
   "cell_type": "code",
   "execution_count": 12,
   "metadata": {},
   "outputs": [
    {
     "name": "stdout",
     "output_type": "stream",
     "text": [
      "1396\n"
     ]
    }
   ],
   "source": [
    "country_populations = [1295,23,7,3,47,21]\n",
    "total = 0\n",
    "\n",
    "for pop in country_populations:\n",
    "    total += pop\n",
    "    \n",
    "print(total)"
   ]
  },
  {
   "cell_type": "code",
   "execution_count": 13,
   "metadata": {},
   "outputs": [
    {
     "name": "stdout",
     "output_type": "stream",
     "text": [
      "첫째 날 생쥐1이 생쥐2보다 몸무게가 더 많이 나간다.\n",
      "생쥐2가 생쥐1보다 무거워졌다\n"
     ]
    }
   ],
   "source": [
    "rat_1 = [1,2,3,4,5,6,7,8,9,10]\n",
    "rat_2 = [0.1,2,3,4,5,6,7,8,9,20]\n",
    "firstDay = True # 첫째날 생쥐 1이 더 무거움\n",
    "\n",
    "\n",
    "for day in range(10):\n",
    "    if day == 0 and rat_1[day] > rat_2[day]:\n",
    "        print('첫째 날 생쥐1이 생쥐2보다 몸무게가 더 많이 나간다.')\n",
    "    elif day == 0 and rat_1[day] <= rat_2[day]:\n",
    "        print('첫째 날 생쥐1이 생쥐2보다 몸무게가 더 적게 나간다.')\n",
    "        firstDay = False\n",
    "    \n",
    "    if day == 9 and rat_1[day] > rat_2[day] and firstDay == True :\n",
    "        print('생쥐1은 생쥐2보다 여전히 무겁다')\n",
    "    \n",
    "    if day == 9 and rat_1[day] < rat_2[day] and firstDay == True:\n",
    "        print('생쥐2가 생쥐1보다 무거워졌다')"
   ]
  },
  {
   "cell_type": "code",
   "execution_count": 14,
   "metadata": {},
   "outputs": [
    {
     "name": "stdout",
     "output_type": "stream",
     "text": [
      "첫째 날 생쥐1이 생쥐2보다 몸무게가 더 많이 나간다\n",
      "생쥐2가 생쥐1보다 무거워졌다\n"
     ]
    }
   ],
   "source": [
    "firstDay = True\n",
    "for day in range(10):\n",
    "    if day == 0:\n",
    "        if rat_1[day] > rat_2[day]:\n",
    "            print('첫째 날 생쥐1이 생쥐2보다 몸무게가 더 많이 나간다')\n",
    "        else:\n",
    "            print('첫째날 생쥐1이 생쥐2보다 몸무게가 더 적게 나간다.')\n",
    "            firstDay = False\n",
    "    \n",
    "    if day == 9:\n",
    "        if rat_1[day] > rat_2[day] and firstDay == True :\n",
    "            print('생쥐1은 생쥐2보다 여전히 무겁다')\n",
    "    \n",
    "        if rat_1[day] < rat_2[day] and firstDay == True:\n",
    "            print('생쥐2가 생쥐1보다 무거워졌다')\n",
    "        "
   ]
  },
  {
   "cell_type": "code",
   "execution_count": 15,
   "metadata": {},
   "outputs": [
    {
     "name": "stdout",
     "output_type": "stream",
     "text": [
      "10\n",
      "9\n",
      "8\n",
      "7\n",
      "6\n",
      "5\n",
      "4\n",
      "3\n",
      "2\n",
      "1\n"
     ]
    }
   ],
   "source": [
    "for i in range(10,0,-1):\n",
    "    print(i)\n",
    "    "
   ]
  },
  {
   "cell_type": "code",
   "execution_count": 20,
   "metadata": {},
   "outputs": [
    {
     "name": "stdout",
     "output_type": "stream",
     "text": [
      "12.0\n"
     ]
    }
   ],
   "source": [
    "sum = 0\n",
    "cnt = 0\n",
    "for i in range(2,22+1):\n",
    "    sum += i\n",
    "    cnt += 1\n",
    "\n",
    "print(sum/cnt)"
   ]
  },
  {
   "cell_type": "code",
   "execution_count": 23,
   "metadata": {},
   "outputs": [
    {
     "name": "stdout",
     "output_type": "stream",
     "text": [
      "T\n",
      "TT\n",
      "TTT\n",
      "TTTT\n",
      "TTTTT\n",
      "TTTTTT\n",
      "TTTTTTT\n"
     ]
    }
   ],
   "source": [
    "for i in range(7):\n",
    "    print('T'*(i+1))"
   ]
  },
  {
   "cell_type": "code",
   "execution_count": 26,
   "metadata": {},
   "outputs": [
    {
     "name": "stdout",
     "output_type": "stream",
     "text": [
      "      T\n",
      "     TT\n",
      "    TTT\n",
      "   TTTT\n",
      "  TTTTT\n",
      " TTTTTT\n",
      "TTTTTTT\n"
     ]
    }
   ],
   "source": [
    "for i in range(6,0-1,-1):\n",
    "    print(' ' * i + 'T'*(7-i))"
   ]
  },
  {
   "cell_type": "code",
   "execution_count": 31,
   "metadata": {},
   "outputs": [
    {
     "name": "stdout",
     "output_type": "stream",
     "text": [
      "      T\n",
      "     TT\n",
      "    TTT\n",
      "   TTTT\n",
      "  TTTTT\n",
      " TTTTTT\n",
      "TTTTTTT\n"
     ]
    }
   ],
   "source": [
    "i = 1\n",
    "while i <= 7:\n",
    "    j = 7 - i\n",
    "    print(' ' * j + 'T' * i)\n",
    "    i += 1"
   ]
  },
  {
   "cell_type": "code",
   "execution_count": 36,
   "metadata": {},
   "outputs": [
    {
     "name": "stdout",
     "output_type": "stream",
     "text": [
      "      T      \n",
      "     TTT     \n",
      "    TTTTT    \n",
      "   TTTTTTT   \n",
      "  TTTTTTTTT  \n",
      " TTTTTTTTTTT \n",
      "TTTTTTTTTTTTT\n"
     ]
    }
   ],
   "source": [
    "for i in range(1,13+1,2):\n",
    "    print(' ' * int((13 - i)/2) + 'T' * i + ' ' * int((13 - i)/2))"
   ]
  },
  {
   "cell_type": "markdown",
   "metadata": {},
   "source": [
    "## 종합예제"
   ]
  },
  {
   "cell_type": "code",
   "execution_count": 39,
   "metadata": {},
   "outputs": [
    {
     "name": "stdout",
     "output_type": "stream",
     "text": [
      "## 현재 등록자 수 : 4\n",
      "1) 성적 입력\n",
      "2) 성적 출력\n",
      "3) 성적 조회\n",
      "4) 종료\n",
      "## 1 ~ 4 에서 선택해 입력하세요 : 2\n"
     ]
    }
   ],
   "source": [
    "# def showSungjuk(df):\n",
    "#     for name, score in df.items():\n",
    "#         sum = sum(score)\n",
    "#         avg = round(sum / 3,4)\n",
    "#         print('{}\\t{}\\t{}\\t{}\\t{}\\t{}'.format(name,score[0],score[1],score[2],sum,avg))\n",
    "#     return None\n",
    "\n",
    "def showSungjuk():\n",
    "    for user in sungjuk:\n",
    "        temp = sungjuk[user]\n",
    "        if len(temp) < 5: # 리스트의 길이로 총점, 평균을 구했는지 확인한다\n",
    "            total = temp[0] + temp[1] + temp[2]\n",
    "            avg = total /3\n",
    "            temp.extend([total,avg]) # 데이터 병합해서 사용\n",
    "\n",
    "        #print(user, sungjuk[user])\n",
    "    \n",
    "   #  newList = sungjuk.items() # --> ('User1', [100, 90, 80, 270, 90]) 형태의 이중 리스트\n",
    "\n",
    "    newList = sorted(sungjuk.items(), key=lambda u: u[1][3], reverse=True)\n",
    "\n",
    "    for user in newList:\n",
    "        print(user[0], '\\t', seperateGrade(user[1]))\n",
    "\n",
    "\n",
    "def seperateGrade(data):\n",
    "    result = ''\n",
    "    for _num in range(len(data) - 1): # [70, 85, 99, 254] ==> 합까지만 계산\n",
    "        result += str(data[_num]) + '\\t'\n",
    "\n",
    "    # 평균 계산 (소수 4째자리)\n",
    "    return result + ('%.4f' % (data[len(data) - 1]))\n",
    "\n",
    "\n",
    "\n",
    "sungjuk = {}\n",
    "sungjuk['USER1'] = [88,70,99]\n",
    "sungjuk['USER2'] = [78,100,77]\n",
    "sungjuk['USER3'] = [100,90,80]\n",
    "sungjuk['USER4'] = [99,80,66]\n",
    "\n",
    "# 국어, 영어, 수학, 총점, 평균, 석차\n",
    "\n",
    "# 성적, 출력, 조회, 종료\n",
    "\n",
    "while True:\n",
    "    print('## 현재 등록자 수 : {}'.format(len(sungjuk)))\n",
    "    # 1 ~ 4 입력 허용\n",
    "    # 입력값을 int()로 casting\n",
    "    try:\n",
    "        cmd = int(input('1) 성적 입력\\n2) 성적 출력\\n3) 성적 조회\\n4) 종료\\n## 1 ~ 4 에서 선택해 입력하세요 : '))\n",
    "    except:\n",
    "        print('** 명령어는 1 ~ 4 사이의 숫자만 입력해 주세요 **')\n",
    "        continue\n",
    "\n",
    "    if cmd == 1: # 성적 입력\n",
    "        '''\n",
    "        입력조건 1) 이름, 국어, 영어, 수학\n",
    "        입력조건 2) 각 과목의 점수는 0 ~ 100점 사이\n",
    "        '''\n",
    "        while True:\n",
    "            try:\n",
    "                newName = input('이름을 입력하세요 : ')\n",
    "                temp = input('성적을 입력하세요(점수는 \",\"로 구분해주세요) : ').split(',')\n",
    "                newScore = list(map(int,temp))\n",
    "                \n",
    "                if len(newScore) != 3:\n",
    "                    raise Exception\n",
    "            \n",
    "                else: # OK\n",
    "                    kor = newScore[0]\n",
    "                    eng = newScore[1]\n",
    "                    mat = newScore[2]\n",
    "\n",
    "                    if kor < 0 or kor > 100:\n",
    "                        raise Exception\n",
    "                    if eng < 0 or eng > 100:\n",
    "                        raise Exception\n",
    "                    if mat < 0 or eng > 100:\n",
    "                        raise Exception\n",
    "                    \n",
    "            except Exception as ex:\n",
    "                print('성적을 정확하게 입력해주세요')\n",
    "                continue\n",
    "\n",
    "            else:\n",
    "                sungjuk[newName] = newScore # sungjuk['USER] = [x , y , z]\n",
    "                print('성적 입력 완료!')\n",
    "                print()\n",
    "                break\n",
    "\n",
    "\n",
    "    elif cmd == 2: # 성적 출력\n",
    "        print('#' * 50)\n",
    "        print('이름\\t국어\\t영어\\t수학\\t총점\\t평균')\n",
    "        print('#' * 50)\n",
    "        showSungjuk()\n",
    "        print()\n",
    "\n",
    "    elif cmd == 3: # 성적 조회\n",
    "        try:\n",
    "            searchUser = input('검색할 사용자명을 입력하세요 : ')\n",
    "            exsist = list(sungjuk.keys()).index(searchUser)\n",
    "\n",
    "            if(exsist < 0):\n",
    "                raise Exception\n",
    "        \n",
    "        except Exception as ex:\n",
    "            print('해당 사용자는 존재하지 않는 사용자입니다')\n",
    "\n",
    "        else:\n",
    "            sUser = sungjuk[searchUser]\n",
    "            print('#' * 50)\n",
    "            print('이름\\t국어\\t영어\\t수학\\t총점\\t평균')\n",
    "            print('#' * 50)\n",
    "            print(sUser[0], '\\t', seperateGrade(sUser[1]))\n",
    "            print(sungjuk[searchUser])\n",
    "            print()\n",
    "\n",
    "    elif cmd == 4: # 종료\n",
    "        quit()\n",
    "\n",
    "    else:\n",
    "        print('exception')"
   ]
  },
  {
   "cell_type": "markdown",
   "metadata": {},
   "source": [
    "# 11장"
   ]
  },
  {
   "cell_type": "markdown",
   "metadata": {},
   "source": [
    "## 연습문제"
   ]
  },
  {
   "cell_type": "code",
   "execution_count": 42,
   "metadata": {},
   "outputs": [],
   "source": [
    "def find_dups(l):\n",
    "    setl1 = set(l)\n",
    "    setl2 = []\n",
    "    for el in setl1:\n",
    "        if l.count(el) > 1:\n",
    "            setl2.append(el)\n",
    "    return setl2"
   ]
  },
  {
   "cell_type": "code",
   "execution_count": 43,
   "metadata": {},
   "outputs": [
    {
     "data": {
      "text/plain": [
       "[1, 3, 6, 8]"
      ]
     },
     "execution_count": 43,
     "metadata": {},
     "output_type": "execute_result"
    }
   ],
   "source": [
    "dupList = [1,1,1,3,3,3,2,4,5,6,6,6,7,8,8]\n",
    "\n",
    "find_dups(dupList)"
   ]
  },
  {
   "cell_type": "code",
   "execution_count": 48,
   "metadata": {},
   "outputs": [],
   "source": [
    "def count_values(data:dict)->int:\n",
    "    values = data.values()\n",
    "    return len(set(values))"
   ]
  },
  {
   "cell_type": "code",
   "execution_count": 49,
   "metadata": {},
   "outputs": [
    {
     "data": {
      "text/plain": [
       "2"
      ]
     },
     "execution_count": 49,
     "metadata": {},
     "output_type": "execute_result"
    }
   ],
   "source": [
    "test = {'red':1,'green':1,'blue':2}\n",
    "count_values(test)"
   ]
  },
  {
   "cell_type": "code",
   "execution_count": null,
   "metadata": {},
   "outputs": [],
   "source": []
  }
 ],
 "metadata": {
  "kernelspec": {
   "display_name": "Python 3",
   "language": "python",
   "name": "python3"
  },
  "language_info": {
   "codemirror_mode": {
    "name": "ipython",
    "version": 3
   },
   "file_extension": ".py",
   "mimetype": "text/x-python",
   "name": "python",
   "nbconvert_exporter": "python",
   "pygments_lexer": "ipython3",
   "version": "3.7.6"
  }
 },
 "nbformat": 4,
 "nbformat_minor": 4
}
