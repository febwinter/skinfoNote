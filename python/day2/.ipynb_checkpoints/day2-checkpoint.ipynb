{
 "cells": [
  {
   "cell_type": "code",
   "execution_count": 4,
   "metadata": {},
   "outputs": [
    {
     "name": "stdout",
     "output_type": "stream",
     "text": [
      "-3\n",
      "False\n"
     ]
    }
   ],
   "source": [
    "x = float(input())\n",
    "result = True\n",
    "if x == abs(x):\n",
    "    result = True\n",
    "else:\n",
    "    result = False\n",
    "    \n",
    "print(result)"
   ]
  },
  {
   "cell_type": "code",
   "execution_count": 5,
   "metadata": {},
   "outputs": [],
   "source": [
    "def different(a,b):\n",
    "    if a == b:\n",
    "        return True\n",
    "    else:\n",
    "        return False"
   ]
  },
  {
   "cell_type": "code",
   "execution_count": 6,
   "metadata": {},
   "outputs": [
    {
     "name": "stdout",
     "output_type": "stream",
     "text": [
      "ph 농도를 입력하세요: 1.0\n",
      "산성입니다.\n",
      "강산성입니다.\n"
     ]
    }
   ],
   "source": [
    "ph = float(input('ph 농도를 입력하세요: '))\n",
    "if ph < 7.0:\n",
    "    print('산성입니다.')\n",
    "if ph < 4.0:\n",
    "    print('강산성입니다.')"
   ]
  },
  {
   "cell_type": "code",
   "execution_count": 7,
   "metadata": {},
   "outputs": [
    {
     "name": "stdout",
     "output_type": "stream",
     "text": [
      "나이를 입력하세요44\n",
      "bmi를 입력하세요22\n",
      "44.0세이고 bmi 22.0인 경우 medium입니다.\n"
     ]
    }
   ],
   "source": [
    "age = float(input('나이를 입력하세요'))\n",
    "bmi = float(input('bmi를 입력하세요'))\n",
    "\n",
    "young = age < 45\n",
    "heavy = bmi >= 22.0\n",
    "\n",
    "if young:\n",
    "    if heavy:\n",
    "        risk = 'medium'\n",
    "    \n",
    "    else:\n",
    "        risk = 'low'\n",
    "\n",
    "else:\n",
    "    if heavy:\n",
    "        risk='high'\n",
    "    \n",
    "    else:\n",
    "        risk='medium'\n",
    "        \n",
    "print('{}세이고 bmi {}인 경우 {}입니다.'.format(age,bmi,risk))"
   ]
  },
  {
   "cell_type": "markdown",
   "metadata": {},
   "source": [
    "## 6장"
   ]
  },
  {
   "cell_type": "code",
   "execution_count": null,
   "metadata": {},
   "outputs": [],
   "source": [
    "import math"
   ]
  }
 ],
 "metadata": {
  "kernelspec": {
   "display_name": "Python 3",
   "language": "python",
   "name": "python3"
  },
  "language_info": {
   "codemirror_mode": {
    "name": "ipython",
    "version": 3
   },
   "file_extension": ".py",
   "mimetype": "text/x-python",
   "name": "python",
   "nbconvert_exporter": "python",
   "pygments_lexer": "ipython3",
   "version": "3.7.6"
  }
 },
 "nbformat": 4,
 "nbformat_minor": 4
}
