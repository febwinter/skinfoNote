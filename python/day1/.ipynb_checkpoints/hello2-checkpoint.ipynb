{
 "cells": [
  {
   "cell_type": "code",
   "execution_count": null,
   "metadata": {},
   "outputs": [],
   "source": [
    "convert_to_celsius(212)"
   ]
  },
  {
   "cell_type": "code",
   "execution_count": 91,
   "metadata": {},
   "outputs": [
    {
     "data": {
      "text/plain": [
       "100.0"
      ]
     },
     "execution_count": 91,
     "metadata": {},
     "output_type": "execute_result"
    }
   ],
   "source": [
    "def convert_to_celsius(temp):\n",
    "    return (temp - 32) * 5 / 9\n",
    "\n",
    "convert_to_celsius(212)"
   ]
  },
  {
   "cell_type": "code",
   "execution_count": 92,
   "metadata": {},
   "outputs": [
    {
     "name": "stdout",
     "output_type": "stream",
     "text": [
      "이름을 입력하세요 : HaeInn\n",
      "국어 점수를 입력하세요 : 100\n",
      "영어 점수를 입력하세요 : 99\n",
      "수학 점수를 입력하세요 : 77\n",
      "Name : HaeInn\n",
      "HaeInn의 Sumation : 276.0\n",
      "HaeInn의 Average : 92.0\n"
     ]
    }
   ],
   "source": [
    "# kor, eng, mat 세과목의 총점과 평균을 구하는 함수를 생성\n",
    "# 총점 함수 : sum\n",
    "# 평균 함수 : avg\n",
    "\n",
    "def sum(kor, eng, mat):\n",
    "    return kor + eng + mat\n",
    "\n",
    "def avg(kor, eng, mat):\n",
    "    return round(sum(kor, eng, mat) / 3, 2)\n",
    "\n",
    "\n",
    "name = input(\"이름을 입력하세요 : \")\n",
    "kor = float(input(\"국어 점수를 입력하세요 : \"))\n",
    "eng = float(input(\"영어 점수를 입력하세요 : \"))\n",
    "mat = float(input(\"수학 점수를 입력하세요 : \"))\n",
    "\n",
    "print('Name : ' + name)\n",
    "#print(name + '의 Sumation : ', sum(kor,eng,mat))\n",
    "#print(name + '의 Average : ', avg(kor,eng,mat))\n",
    "\n",
    "print('{}의 Sumation : {}'.format(name, sum(kor,eng,mat)))\n",
    "print('{}의 Average : {}'.format(name, avg(kor,eng,mat)))\n",
    "\n",
    "# 1. 사용자 이름 입력\n",
    "# 2. 평균을 소수점 2자리에서 반올림"
   ]
  },
  {
   "cell_type": "code",
   "execution_count": 94,
   "metadata": {},
   "outputs": [],
   "source": [
    "def sum(kor: float, eng: float, mat: float)->float:\n",
    "    return kor + eng + mat\n",
    "\n",
    "def avg(kor: float, eng: float, mat: float)->float:\n",
    "    return round(sum(kor, eng, mat) / 3, 2)"
   ]
  }
 ],
 "metadata": {
  "celltoolbar": "Raw Cell Format",
  "kernelspec": {
   "display_name": "Python 3",
   "language": "python",
   "name": "python3"
  },
  "language_info": {
   "codemirror_mode": {
    "name": "ipython",
    "version": 3
   },
   "file_extension": ".py",
   "mimetype": "text/x-python",
   "name": "python",
   "nbconvert_exporter": "python",
   "pygments_lexer": "ipython3",
   "version": "3.7.6"
  }
 },
 "nbformat": 4,
 "nbformat_minor": 4
}
